{
 "cells": [
  {
   "cell_type": "code",
   "execution_count": 2,
   "id": "0f4f3d65-6522-4911-ba49-73d492766ad1",
   "metadata": {},
   "outputs": [],
   "source": [
    "import pandas as pd\n",
    "import pyodbc\n",
    "from sqlalchemy import create_engine\n",
    "import urllib\n",
    "import os\n",
    "from tqdm import tqdm \n",
    "import re\n",
    "import time\n"
   ]
  },
  {
   "cell_type": "markdown",
   "id": "893d3693",
   "metadata": {},
   "source": [
    "## Create Data Base to QuetsionPro resposnses"
   ]
  },
  {
   "cell_type": "markdown",
   "id": "684551bc",
   "metadata": {},
   "source": [
    "# Connection test"
   ]
  },
  {
   "cell_type": "code",
   "execution_count": null,
   "id": "fbb1fd04-6cb4-45a9-93d1-53306ca4b5d9",
   "metadata": {},
   "outputs": [
    {
     "name": "stdout",
     "output_type": "stream",
     "text": [
      "Conexão bem-sucedida!\n"
     ]
    }
   ],
   "source": [
    "max_retries = 5           # Max retries: important in cases of instability\n",
    "base_delay = 1             # Delay: important in cases of system overload\n",
    "timeout = 60               # Connection timeout in seconds: prevents the program from hanging indefinitely\n",
    "\n",
    "user = os.getenv(\"DB_USER\")\n",
    "password = os.getenv(\"DB_PASSWORD\")\n",
    "\n",
    "server = 'server_name'\n",
    "database = 'db_name'\n",
    "\n",
    "for attempt in range(1, max_retries + 1):\n",
    "    try:\n",
    "        conn = pyodbc.connect(f\"\"\"\n",
    "        DRIVER={{ODBC Driver 18 for SQL Server}};\n",
    "        SERVER={server};\n",
    "        DATABASE={database};\n",
    "        TrustServerCertificate=Yes;\n",
    "        MultiSubnetFailover=Yes;\n",
    "        UID={user};\n",
    "        PWD={password};\n",
    "    \"\"\")\n",
    "        print(\"Connection successful!\")\n",
    "        break\n",
    "    except pyodbc.Error as e:\n",
    "        print(f\"Attempt {attempt} failed: {e}\")\n",
    "        if attempt == max_retries:\n",
    "            print(\"Max retries reached. Aborting.\")\n",
    "            raise\n",
    "        sleep_time = base_delay * (2 ** (attempt - 1))\n",
    "        print(f\"Waiting {sleep_time} seconds before retrying...\")\n",
    "        time.sleep(sleep_time)\n"
   ]
  },
  {
   "cell_type": "markdown",
   "id": "c3495cda",
   "metadata": {},
   "source": [
    "# Create Table"
   ]
  },
  {
   "cell_type": "code",
   "execution_count": null,
   "id": "7464368c",
   "metadata": {},
   "outputs": [
    {
     "name": "stdout",
     "output_type": "stream",
     "text": [
      "Conexão bem-sucedida!\n",
      "Tabela criada e dados inseridos com sucesso.\n"
     ]
    }
   ],
   "source": [
    "for attempt in range(1, max_retries + 1):\n",
    "    try:\n",
    "        conn = pyodbc.connect(f\"\"\"\n",
    "        DRIVER={{ODBC Driver 18 for SQL Server}};\n",
    "        SERVER={server};\n",
    "        DATABASE={database};\n",
    "        TrustServerCertificate=Yes;\n",
    "        MultiSubnetFailover=Yes;\n",
    "        UID={user};\n",
    "        PWD={password};\n",
    "    \"\"\")\n",
    "        print(\"Connection successful!\")\n",
    "        break\n",
    "    except pyodbc.Error as e:\n",
    "        print(f\"Attempt {attempt} failed: {e}\")\n",
    "        if attempt == max_retries:\n",
    "            print(\"Max retries reached. Aborting.\")\n",
    "            raise\n",
    "        sleep_time = base_delay * (2 ** (attempt - 1))\n",
    "        print(f\"Waiting {sleep_time} seconds before retrying...\")\n",
    "        time.sleep(sleep_time)\n",
    "        time.sleep(sleep_time)\n",
    "\n",
    "\n",
    "excel_file = 'questionpro_data.xlsx'\n",
    "df = pd.read_excel(excel_file, dtype=str) \n",
    "\n",
    "cursor = conn.cursor()\n",
    "\n",
    "# delete the table if it already exists\n",
    "cursor.execute(\"IF OBJECT_ID('TB_QUESTIONPRO_DATA', 'U') IS NOT NULL DROP TABLE TB_QUESTIONPRO_DATA;\")\n",
    "conn.commit()\n",
    "\n",
    "# Create table with NVARCHAR(MAX) columns\n",
    "columns_sql = \", \".join([f\"[{col}] NVARCHAR(MAX)\" for col in df.columns])\n",
    "create_sql = f\"CREATE TABLE TB_QUESTIONPRO_DATA ({columns_sql});\"\n",
    "cursor.execute(create_sql)\n",
    "conn.commit()\n",
    "\n",
    "# Insert data\n",
    "for _, row in df.iterrows():\n",
    "    placeholders = \", \".join([\"?\"] * len(row))\n",
    "    insert_sql = f\"INSERT INTO TB_QUESTIONPRO_DATA VALUES ({placeholders})\"\n",
    "    cursor.execute(insert_sql, tuple(row.fillna('').values))\n",
    "conn.commit()\n",
    "\n",
    "print(\"Table created and data inserted successfully\")\n",
    "conn.close()"
   ]
  }
 ],
 "metadata": {
  "kernelspec": {
   "display_name": "base",
   "language": "python",
   "name": "python3"
  },
  "language_info": {
   "codemirror_mode": {
    "name": "ipython",
    "version": 3
   },
   "file_extension": ".py",
   "mimetype": "text/x-python",
   "name": "python",
   "nbconvert_exporter": "python",
   "pygments_lexer": "ipython3",
   "version": "3.13.5"
  }
 },
 "nbformat": 4,
 "nbformat_minor": 5
}
